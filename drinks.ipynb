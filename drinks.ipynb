{
 "cells": [
  {
   "cell_type": "markdown",
   "metadata": {},
   "source": [
    "\n",
    "## ADS 507 - DATA ENGINEERING\n",
    "### TEAM 2\n",
    "##### MARVIN MORAN, MURIS SAAB, RAVITA KARTAWINATA\n"
   ]
  },
  {
   "cell_type": "markdown",
   "metadata": {},
   "source": [
    "# DRINK DATABASE PIPELINE\n",
    "This project is to construct a database schema and pipeline for non-alcohol and alcohol beverages with four datasets with ETL approach that would store a final dataset in Azure/ Test Database which will be used to perform EDA"
   ]
  },
  {
   "cell_type": "markdown",
   "metadata": {},
   "source": [
    "## Loading Libraries and DB access parameters"
   ]
  },
  {
   "cell_type": "code",
   "execution_count": 16,
   "metadata": {},
   "outputs": [
    {
     "data": {
      "text/plain": [
       "\"\\n# parameter in Azure database/ test\\nuserName = 'ravi'\\nuserPass = 'Password507'\\nhost='sakila-2.mysql.database.azure.com'\\nport=3306\\ndatabase='test'\\n\""
      ]
     },
     "execution_count": 16,
     "metadata": {},
     "output_type": "execute_result"
    }
   ],
   "source": [
    "import pandas as pd\n",
    "import mysql.connector\n",
    "import sqlalchemy\n",
    "from sqlalchemy import  text, MetaData\n",
    "import requests\n",
    "import sqlite3\n",
    "import json\n",
    "import seaborn as sns\n",
    "from matplotlib import pyplot as plt\n",
    "\n",
    "# parameter in local database/ test\n",
    "userName = 'Ravi'\n",
    "userPass = 'password'\n",
    "host='localhost'\n",
    "port=3306\n",
    "database='test'\n",
    "\n",
    "\"\"\"\n",
    "# parameter in Azure database/ test\n",
    "userName = 'ravi'\n",
    "userPass = 'Password507'\n",
    "host='sakila-2.mysql.database.azure.com'\n",
    "port=3306\n",
    "database='test'\n",
    "\"\"\""
   ]
  },
  {
   "cell_type": "markdown",
   "metadata": {},
   "source": [
    "## Step 1: Retrieve Data from API (Json Files) and CSV files\n",
    "API JSON files of Drink and Glass are originated from https://www.thecocktaildb.com/api.php. There two datasets are from API. Another 2 datasets of Category and Ingredient come from CSV files"
   ]
  },
  {
   "cell_type": "code",
   "execution_count": 17,
   "metadata": {},
   "outputs": [
    {
     "data": {
      "text/html": [
       "<div>\n",
       "<style scoped>\n",
       "    .dataframe tbody tr th:only-of-type {\n",
       "        vertical-align: middle;\n",
       "    }\n",
       "\n",
       "    .dataframe tbody tr th {\n",
       "        vertical-align: top;\n",
       "    }\n",
       "\n",
       "    .dataframe thead th {\n",
       "        text-align: right;\n",
       "    }\n",
       "</style>\n",
       "<table border=\"1\" class=\"dataframe\">\n",
       "  <thead>\n",
       "    <tr style=\"text-align: right;\">\n",
       "      <th></th>\n",
       "      <th>strIngredient1</th>\n",
       "      <th>strCountryofOrigin</th>\n",
       "    </tr>\n",
       "  </thead>\n",
       "  <tbody>\n",
       "    <tr>\n",
       "      <th>0</th>\n",
       "      <td>Light rum</td>\n",
       "      <td>Caribbean</td>\n",
       "    </tr>\n",
       "    <tr>\n",
       "      <th>1</th>\n",
       "      <td>Applejack</td>\n",
       "      <td>United States</td>\n",
       "    </tr>\n",
       "    <tr>\n",
       "      <th>2</th>\n",
       "      <td>Gin</td>\n",
       "      <td>Netherlands</td>\n",
       "    </tr>\n",
       "    <tr>\n",
       "      <th>3</th>\n",
       "      <td>Dark rum</td>\n",
       "      <td>Caribbean</td>\n",
       "    </tr>\n",
       "    <tr>\n",
       "      <th>4</th>\n",
       "      <td>Sweet Vermouth</td>\n",
       "      <td>Italy</td>\n",
       "    </tr>\n",
       "  </tbody>\n",
       "</table>\n",
       "</div>"
      ],
      "text/plain": [
       "   strIngredient1 strCountryofOrigin\n",
       "0       Light rum          Caribbean\n",
       "1       Applejack      United States\n",
       "2             Gin        Netherlands\n",
       "3        Dark rum          Caribbean\n",
       "4  Sweet Vermouth              Italy"
      ]
     },
     "execution_count": 17,
     "metadata": {},
     "output_type": "execute_result"
    }
   ],
   "source": [
    "# CSV datasource - list of category(c), ingredient(i)\n",
    "df_category_csv = pd.read_csv('C:/Users/rkartawi/Desktop/Ravita/MSADS/507/ADS507/category.csv')\n",
    "df_ingrident_csv = pd.read_csv('C:/Users/rkartawi/Desktop/Ravita/MSADS/507/ADS507/ingredient.csv')\n",
    "\n",
    "#Display data\n",
    "df_category_csv.head()\n",
    "df_ingrident_csv.head()"
   ]
  },
  {
   "cell_type": "code",
   "execution_count": 18,
   "metadata": {},
   "outputs": [],
   "source": [
    "#API Search cocktails by first letter and load all first characters\n",
    "all_drinks = []\n",
    "for letter in 'abcdefghijklmnopqrstvwyz12345679%':\n",
    "    # Make the API request with the current letter\n",
    "    response = requests.get(f\"https://www.thecocktaildb.com/api/json/v1/1/search.php?f={letter}\")\n",
    "    # Get the JSON data from the response\n",
    "    data = response.json()\n",
    "    # Append the 'drinks' data from the response to the list\n",
    "    all_drinks.extend(data['drinks'])\n",
    "df = pd.DataFrame(all_drinks)\n",
    "\n",
    "response_glass = requests.get(f\"https://www.thecocktaildb.com/api/json/v1/1/list.php?g=list\")\n",
    "data_glass = response_glass.json()\n",
    "df_glass = pd.DataFrame(data_glass['drinks'])\n",
    "\n",
    "# generate json files to C drive\n",
    "with open('all_drinks.json', 'w') as json_file:\n",
    "    json.dump(all_drinks, json_file)\n",
    "with open('data_glass.json', 'w') as json_file:\n",
    "    json.dump(data_glass, json_file)"
   ]
  },
  {
   "cell_type": "markdown",
   "metadata": {},
   "source": [
    "## Step 2: Data Cleanup\n",
    "Check Columns with null values. Drink JSON file has null values on some of the attributes which don't add any value to the data. These columns will be dropped from dataframe before it's loaded to database"
   ]
  },
  {
   "cell_type": "code",
   "execution_count": 19,
   "metadata": {},
   "outputs": [
    {
     "data": {
      "text/plain": [
       "idDrink                          0\n",
       "strDrink                         0\n",
       "strDrinkAlternate              466\n",
       "strTags                        360\n",
       "strVideo                       443\n",
       "strCategory                      0\n",
       "strIBA                         402\n",
       "strAlcoholic                     0\n",
       "strGlass                         0\n",
       "strInstructions                  0\n",
       "strInstructionsES              434\n",
       "strInstructionsDE               45\n",
       "strInstructionsFR              466\n",
       "strInstructionsIT               10\n",
       "strInstructionsZH-HANS         466\n",
       "strInstructionsZH-HANT         466\n",
       "strDrinkThumb                    0\n",
       "strIngredient1                   0\n",
       "strIngredient2                   0\n",
       "strIngredient3                  74\n",
       "strIngredient4                 222\n",
       "strIngredient5                 318\n",
       "strIngredient6                 399\n",
       "strIngredient7                 445\n",
       "strIngredient8                 460\n",
       "strIngredient9                 463\n",
       "strIngredient10                465\n",
       "strIngredient11                465\n",
       "strIngredient12                466\n",
       "strIngredient13                466\n",
       "strIngredient14                466\n",
       "strIngredient15                466\n",
       "strMeasure1                      8\n",
       "strMeasure2                     18\n",
       "strMeasure3                    102\n",
       "strMeasure4                    243\n",
       "strMeasure5                    326\n",
       "strMeasure6                    389\n",
       "strMeasure7                    417\n",
       "strMeasure8                    460\n",
       "strMeasure9                    462\n",
       "strMeasure10                   464\n",
       "strMeasure11                   464\n",
       "strMeasure12                   465\n",
       "strMeasure13                   466\n",
       "strMeasure14                   466\n",
       "strMeasure15                   466\n",
       "strImageSource                 411\n",
       "strImageAttribution            434\n",
       "strCreativeCommonsConfirmed      0\n",
       "dateModified                    44\n",
       "dtype: int64"
      ]
     },
     "execution_count": 19,
     "metadata": {},
     "output_type": "execute_result"
    }
   ],
   "source": [
    "# Count the number of null values in each column\n",
    "null_counts = df.isnull().sum()\n",
    "null_counts\n",
    "#columns_to_drop = df.columns[df.isnull().any()]"
   ]
  },
  {
   "cell_type": "code",
   "execution_count": 20,
   "metadata": {},
   "outputs": [],
   "source": [
    "# Remove unneccessary columns from drink\n",
    "columns_to_drop = ['strDrinkAlternate', 'strTags', 'strVideo', 'strIBA',\n",
    "                   'strInstructionsES', 'strInstructionsDE', 'strInstructionsFR', 'strInstructionsIT', \n",
    "                   'strInstructionsZH-HANS', 'strInstructionsZH-HANT', 'strDrinkThumb', \n",
    "                   'strIngredient4', 'strIngredient5', 'strIngredient6', 'strIngredient7', 'strIngredient8',\n",
    "                   'strIngredient9', 'strIngredient10', 'strIngredient11', 'strIngredient12', 'strIngredient13', \n",
    "                    'strIngredient14', 'strIngredient15', 'strMeasure1', 'strMeasure2', 'strMeasure3', 'strMeasure4',\t\n",
    "                    'strMeasure5', 'strMeasure6', 'strMeasure7', 'strMeasure8', 'strMeasure9', 'strMeasure10',\n",
    "                    'strMeasure11', 'strMeasure12', 'strMeasure13', 'strMeasure14', 'strMeasure15', 'strImageSource',\n",
    "                    'strImageAttribution', 'strCreativeCommonsConfirmed'\n",
    "                    ]\n",
    "df.drop(columns=[col for col in columns_to_drop if col in df.columns], inplace=True)\n",
    " \n",
    " # Add column of Adult Drink (y/n)\n",
    "#df['strAdult_Drink'] = df['strAlcoholic'].apply(lambda x: 'Y' if x == \"Alcoholic\" else 'N')\n",
    "#df.info()\n",
    "\n"
   ]
  },
  {
   "cell_type": "markdown",
   "metadata": {},
   "source": [
    "## Step 3: SQL"
   ]
  },
  {
   "cell_type": "markdown",
   "metadata": {},
   "source": [
    "### Step 3a: Connect to AZURE/ TEST Database"
   ]
  },
  {
   "cell_type": "code",
   "execution_count": 21,
   "metadata": {},
   "outputs": [],
   "source": [
    "# create engine to execute \n",
    "engine = sqlalchemy.create_engine(f\"mysql+mysqlconnector://{userName}:{userPass}@{host}:{port}/{database}\")"
   ]
  },
  {
   "cell_type": "markdown",
   "metadata": {},
   "source": [
    "### Step 3b: Create Table in TEST Database"
   ]
  },
  {
   "cell_type": "code",
   "execution_count": 22,
   "metadata": {},
   "outputs": [],
   "source": [
    "# Create Tables Queries\n",
    "Create_category_table_q =   \"\"\"\n",
    "                            CREATE TABLE test.category (\n",
    "                            strCategory VARCHAR(50) NOT NULL,\n",
    "                            strDescription VARCHAR(150) NOT NULL,\n",
    "                            PRIMARY KEY (strCategory)); \n",
    "                            \"\"\"\n",
    "\n",
    "Create_ingredient_table_q = \"\"\"\n",
    "                            CREATE TABLE test.ingredient (\n",
    "                            strIngredient1 VARCHAR(50) NOT NULL,\n",
    "                            strCountryofOrigin VARCHAR(150) NOT NULL,\n",
    "                            PRIMARY KEY (strIngredient1));\n",
    "                            \"\"\"\n",
    "\n",
    "Create_glass_table_q = \"\"\"\n",
    "                        CREATE TABLE test.glass (\n",
    "                        strGlass VARCHAR(50) NOT NULL,\n",
    "                        PRIMARY KEY (strGlass));\n",
    "                        \"\"\"\n",
    "\n",
    "Create_drink_table_q = \"\"\"\n",
    "                        CREATE TABLE test.drink (\n",
    "                        idDrink INT NOT NULL,\n",
    "                        strDrink VARCHAR(150),\n",
    "                        strCategory VARCHAR(50),\n",
    "                        strAlcoholic VARCHAR(50),\n",
    "                        strGlass VARCHAR(50),\n",
    "                        strInstructions VARCHAR(250),\n",
    "                        strIngredient1 VARCHAR(50),\n",
    "                        strIngredient2 VARCHAR(50),\n",
    "                        strIngredient3 VARCHAR(50),\n",
    "                        dateModified DATETIME,\n",
    "                        PRIMARY KEY (idDrink));\n",
    "                        \"\"\""
   ]
  },
  {
   "cell_type": "code",
   "execution_count": 23,
   "metadata": {},
   "outputs": [
    {
     "name": "stdout",
     "output_type": "stream",
     "text": [
      "Table 'Category' created successfully.\n",
      "Table 'Ingredient' created successfully.\n",
      "Table 'Glass' created successfully.\n",
      "Table 'Drink' created successfully.\n"
     ]
    }
   ],
   "source": [
    "# Execute \"Create TABLE\" queries\n",
    "with engine.connect() as conn:\n",
    "  result = conn.execute(text(Create_category_table_q))\n",
    "  print(\"Table 'Category' created successfully.\")\n",
    "\n",
    "  result = conn.execute(text(Create_ingredient_table_q))\n",
    "  print(\"Table 'Ingredient' created successfully.\")\n",
    "\n",
    "  result = conn.execute(text(Create_glass_table_q))\n",
    "  print(\"Table 'Glass' created successfully.\")\n",
    "\n",
    "  result = conn.execute(text(Create_drink_table_q))\n",
    "  print(\"Table 'Drink' created successfully.\")\n"
   ]
  },
  {
   "cell_type": "markdown",
   "metadata": {},
   "source": [
    "### Step 3c: Load transformed data to SQL Tables\n",
    "Clean-up data from JSON Files and CSV files are stored in mySQL tables"
   ]
  },
  {
   "cell_type": "code",
   "execution_count": 24,
   "metadata": {},
   "outputs": [
    {
     "data": {
      "text/plain": [
       "466"
      ]
     },
     "execution_count": 24,
     "metadata": {},
     "output_type": "execute_result"
    }
   ],
   "source": [
    "# Load DataFrame from CSV and API Json Files into Azure MySQL table\n",
    "\n",
    "df_category_csv.to_sql('category', con=engine, if_exists='replace', index=False)\n",
    "df_ingrident_csv.to_sql('ingredient', con=engine, if_exists='replace', index=False)\n",
    "df_glass.to_sql('glass', con=engine, if_exists='replace', index=False)\n",
    "df.to_sql('drink', con=engine, if_exists='replace', index=False)\n"
   ]
  },
  {
   "cell_type": "markdown",
   "metadata": {},
   "source": [
    "### Step 3d: Add a new column in SQL table\n",
    "A new column \"Adult Drink\" is generated from strAlcoholic field. "
   ]
  },
  {
   "cell_type": "code",
   "execution_count": 25,
   "metadata": {},
   "outputs": [
    {
     "data": {
      "text/plain": [
       "'\\nwith engine.connect() as conn:\\n  result = conn.execute(text(Alter_drink_q))\\n  print(\"Table \\'Drink\\' updated with strAdult_Drink Field successfully.\")\\n  result = conn.execute(text(Update_drink_q))\\n  print(\"Table \\'Drink\\' updated with strAdult_Drink values successfully.\")\\n  '"
      ]
     },
     "execution_count": 25,
     "metadata": {},
     "output_type": "execute_result"
    }
   ],
   "source": [
    "# query statement\n",
    "Alter_drink_q = \"\"\"\n",
    "                ALTER TABLE drink\n",
    "                ADD COLUMN strAdult_Drink VARCHAR(1);\n",
    "                \"\"\"\n",
    "Update_drink_q = \"\"\"\n",
    "                UPDATE drink\n",
    "                SET strAdult_Drink = CASE\n",
    "                WHEN strAlcoholic = 'Alcoholic' THEN 'Y'\n",
    "                ELSE 'N'\n",
    "                END;\n",
    "                \"\"\"\n",
    "\"\"\"\n",
    "with engine.connect() as conn:\n",
    "  result = conn.execute(text(Alter_drink_q))\n",
    "  print(\"Table 'Drink' updated with strAdult_Drink Field successfully.\")\n",
    "  result = conn.execute(text(Update_drink_q))\n",
    "  print(\"Table 'Drink' updated with strAdult_Drink values successfully.\")\n",
    "  \"\"\""
   ]
  },
  {
   "cell_type": "markdown",
   "metadata": {},
   "source": [
    "## Step 4: Data Queries and Plots\n",
    "Perform data queries from drink with relationship to Ingredient"
   ]
  },
  {
   "cell_type": "markdown",
   "metadata": {},
   "source": [
    "### Step 4a: Data Query by Category"
   ]
  },
  {
   "cell_type": "markdown",
   "metadata": {},
   "source": [
    "**Catalog Window**"
   ]
  },
  {
   "cell_type": "code",
   "execution_count": 26,
   "metadata": {},
   "outputs": [
    {
     "name": "stdout",
     "output_type": "stream",
     "text": [
      "User searched for Ingredient: Vermouth\n",
      "option: Ingredient\n",
      "user_input: Vermouth\n",
      "Search count: 39\n",
      "SELECT count(*) as count, strCategory\n",
      "                        FROM drink\n",
      "                        WHERE strIngredient1 like '%Vermouth%' \n",
      "                        or strIngredient2 like '%Vermouth%'\n",
      "                        or strIngredient3 like '%Vermouth%'\n",
      "                        GROUP BY strCategory\n"
     ]
    },
    {
     "data": {
      "image/png": "[encoded data removed]",
      "text/plain": [
       "<Figure size 1200x800 with 1 Axes>"
      ]
     },
     "metadata": {},
     "output_type": "display_data"
    }
   ],
   "source": [
    "import tkinter as tk\n",
    "from tkinter import simpledialog\n",
    "from tkinter import ttk\n",
    "from matplotlib.backends.backend_tkagg import FigureCanvasTkAgg\n",
    "\n",
    "global_user_input = None\n",
    "global_option = None\n",
    "\n",
    "def show_popup(option):\n",
    "    global global_user_input, global_option\n",
    "    \n",
    "    # Ask the user for input with a pop-up window\n",
    "    subtext = \"Ingredient eg. gin, vodka, vermouth ....\" if option == \"Ingredient\" else \"Glass eg. beer, cocktail, whiskey...\"\n",
    "    user_input = simpledialog.askstring(\"Input\", f\"Enter {option}: \\n{subtext}\")\n",
    "    \n",
    "    # Check if the user clicked Cancel or entered a value\n",
    "    if user_input is not None:\n",
    "        result_label.config(text=f\"User searched for {option}: {user_input}\")\n",
    "        global_user_input = user_input\n",
    "        global_option = option\n",
    "        print(f\"User searched for {option}: {user_input}\")\n",
    "        root.destroy()\n",
    "\n",
    "    else:\n",
    "        result_label.config(text=f\"User clicked Cancel for {option}\")\n",
    "\n",
    "# Create the main window\n",
    "root = tk.Tk()\n",
    "root.title(\"Button Selection\")\n",
    "\n",
    "# Create buttons to trigger the pop-up for \"Glass Type\", \"Ingredient\"\"\n",
    "button_font = (\"Arial\", 12)  \n",
    "\n",
    "glass_type_button = tk.Button(root, text=\"Glass Type\", font=button_font, command=lambda: show_popup(\"Glass\"), width=20, height=2)\n",
    "glass_type_button.grid(row=1, column=0, padx=10)\n",
    "\n",
    "ingredient_button = tk.Button(root, text=\"Ingredient\", font=button_font, command=lambda: show_popup(\"Ingredient\"), width=20, height=2)\n",
    "ingredient_button.grid(row=1, column=3, padx=10)\n",
    "\n",
    "# Create a label to display the result\n",
    "result_label = tk.Label(root, text=(f\"Result for {global_option}: {global_user_input}\"))\n",
    "result_label.grid(row=2, column=0, columnspan=4, pady=10)\n",
    "\n",
    "# Start the Tkinter event loop\n",
    "root.mainloop()\n",
    "\n",
    "# Access global_user_input and global_option outside the Tkinter event loop\n",
    "if global_user_input is not None and global_option is not None:\n",
    "    print(\"option:\", global_option)\n",
    "    print(\"user_input:\", global_user_input)\n",
    "\n",
    "# STARTING THE QUERY FOR TABLE OR LIST BY INGREDIENT OR GLASS\n",
    "if global_option == \"Ingredient\":\n",
    "    count_query = text(f\"\"\"SELECT count(*) FROM drink \n",
    "                       WHERE strIngredient1 like '%{global_user_input}%'\n",
    "                        or strIngredient2 like '%{global_user_input}%'\n",
    "                        or strIngredient3 like '%{global_user_input}%'\"\"\")\n",
    "    select_query = text(f\"\"\"SELECT strDrink, strCategory, strGlass, strAlcoholic, \n",
    "                        strIngredient1, strIngredient2, strIngredient3, strInstructions\n",
    "                        FROM drink \n",
    "                        WHERE strIngredient1 like '%{global_user_input}%' \n",
    "                        or strIngredient2 like '%{global_user_input}%'\n",
    "                        or strIngredient3 like '%{global_user_input}%'\"\"\")\n",
    "else:\n",
    "    count_query = text(f\"\"\"SELECT count(*) FROM drink WHERE strglass = '%{global_user_input}%'\"\"\")\n",
    "    select_query = text(f\"\"\"SELECT strDrink, strCategory, strGlass, strAlcoholic, \n",
    "                        strIngredient1, strIngredient2, strIngredient3, strInstructions\n",
    "                        FROM drink WHERE strglass = '%{global_user_input}%'\"\"\")\n",
    "#print(select_query)\n",
    "# Execute the SELECT query\n",
    "with engine.connect() as conn:\n",
    "    count = conn.execute(count_query)\n",
    "    count_result = count.scalar()\n",
    "    \n",
    "    result = conn.execute(select_query)\n",
    "    rows = result.fetchall()\n",
    "\n",
    "#Display the result\n",
    "print(f\"Search count: {count_result}\")\n",
    "df_query = pd.DataFrame(rows, columns=result.keys())\n",
    "df_query\n",
    "\n",
    "# QUERY FOR THE PLOT BY CATEGORY\n",
    "if global_option == \"Ingredient\":\n",
    "    plot_query = text(f\"\"\"SELECT count(*) as count, strCategory\n",
    "                        FROM drink\n",
    "                        WHERE strIngredient1 like '%{global_user_input}%' \n",
    "                        or strIngredient2 like '%{global_user_input}%'\n",
    "                        or strIngredient3 like '%{global_user_input}%'\n",
    "                        GROUP BY strCategory\"\"\")\n",
    "else:\n",
    "    plot_query = text(f\"\"\"SELECT count(*) as count, strCategory\n",
    "                        FROM drink\n",
    "                        WHERE strGlass like '%{global_user_input}%' \n",
    "                        GROUP BY strCategory\"\"\")\n",
    "    \n",
    "print(plot_query)\n",
    "with engine.connect() as conn:\n",
    "    result = conn.execute(plot_query)\n",
    "    rows = result.fetchall()\n",
    "\n",
    "#Display the result\n",
    "df_query = pd.DataFrame(rows, columns=result.keys())\n",
    "#df_query\n",
    "\n",
    "# Plotting the bar chart by Category\n",
    "fig = plt.figure(figsize=(12, 8))\n",
    "plt.bar(df_query['strCategory'], df_query['count'], color='skyblue')\n",
    "plt.xlabel('Category')\n",
    "plt.ylabel('Count')\n",
    "plt.title(f\"Category Count Plot on {global_option} : {global_user_input}\")\n",
    "#plt.show()\n",
    "\n",
    "# DISPLAY RESULT IN GUI FRAME \n",
    "def display_dataframe():\n",
    "    root = tk.Tk()\n",
    "    root.title(\"DataFrame Result\")\n",
    "\n",
    "    tree = ttk.Treeview(root)\n",
    "    tree[\"columns\"] = list(df_query.columns)\n",
    "    tree[\"show\"] = \"headings\"\n",
    "\n",
    "    for column in df_query.columns:\n",
    "        tree.heading(column, text=column)\n",
    "\n",
    "    for index, row in df_query.iterrows():\n",
    "        tree.insert(\"\", \"end\", values=list(row))\n",
    "\n",
    "    tree.pack(expand=True, fill=\"both\")\n",
    "    # Create a canvas to display the plot\n",
    "    canvas = FigureCanvasTkAgg(fig, master=root)\n",
    "    canvas.draw()\n",
    "    canvas.get_tk_widget().pack()\n",
    "\n",
    "    root.mainloop()\n",
    "\n",
    "display_dataframe()"
   ]
  },
  {
   "cell_type": "markdown",
   "metadata": {},
   "source": [
    "### Step 4b: Join Data Query by Country of Origin"
   ]
  },
  {
   "cell_type": "code",
   "execution_count": 27,
   "metadata": {},
   "outputs": [
    {
     "data": {
      "text/html": [
       "<div>\n",
       "<style scoped>\n",
       "    .dataframe tbody tr th:only-of-type {\n",
       "        vertical-align: middle;\n",
       "    }\n",
       "\n",
       "    .dataframe tbody tr th {\n",
       "        vertical-align: top;\n",
       "    }\n",
       "\n",
       "    .dataframe thead th {\n",
       "        text-align: right;\n",
       "    }\n",
       "</style>\n",
       "<table border=\"1\" class=\"dataframe\">\n",
       "  <thead>\n",
       "    <tr style=\"text-align: right;\">\n",
       "      <th></th>\n",
       "      <th>count</th>\n",
       "      <th>strCountryofOrigin</th>\n",
       "    </tr>\n",
       "  </thead>\n",
       "  <tbody>\n",
       "    <tr>\n",
       "      <th>0</th>\n",
       "      <td>19</td>\n",
       "      <td>Netherlands</td>\n",
       "    </tr>\n",
       "    <tr>\n",
       "      <th>1</th>\n",
       "      <td>24</td>\n",
       "      <td>France</td>\n",
       "    </tr>\n",
       "    <tr>\n",
       "      <th>2</th>\n",
       "      <td>6</td>\n",
       "      <td>Scotland</td>\n",
       "    </tr>\n",
       "    <tr>\n",
       "      <th>3</th>\n",
       "      <td>17</td>\n",
       "      <td>Italy</td>\n",
       "    </tr>\n",
       "    <tr>\n",
       "      <th>4</th>\n",
       "      <td>5</td>\n",
       "      <td>United States</td>\n",
       "    </tr>\n",
       "    <tr>\n",
       "      <th>5</th>\n",
       "      <td>4</td>\n",
       "      <td>England</td>\n",
       "    </tr>\n",
       "    <tr>\n",
       "      <th>6</th>\n",
       "      <td>2</td>\n",
       "      <td>Russia</td>\n",
       "    </tr>\n",
       "    <tr>\n",
       "      <th>7</th>\n",
       "      <td>7</td>\n",
       "      <td>Various</td>\n",
       "    </tr>\n",
       "    <tr>\n",
       "      <th>8</th>\n",
       "      <td>1</td>\n",
       "      <td>Ireland</td>\n",
       "    </tr>\n",
       "    <tr>\n",
       "      <th>9</th>\n",
       "      <td>1</td>\n",
       "      <td>Caribbean</td>\n",
       "    </tr>\n",
       "  </tbody>\n",
       "</table>\n",
       "</div>"
      ],
      "text/plain": [
       "   count strCountryofOrigin\n",
       "0     19        Netherlands\n",
       "1     24             France\n",
       "2      6           Scotland\n",
       "3     17              Italy\n",
       "4      5      United States\n",
       "5      4            England\n",
       "6      2             Russia\n",
       "7      7            Various\n",
       "8      1            Ireland\n",
       "9      1          Caribbean"
      ]
     },
     "execution_count": 27,
     "metadata": {},
     "output_type": "execute_result"
    }
   ],
   "source": [
    "# Query by Ingredient country origin or Category\n",
    "if global_option == \"Ingredient\":\n",
    "        count_query = text(f\"\"\"SELECT count(*) FROM drink d\n",
    "                            JOIN ingredient i ON i.strIngredient1 = d.strIngredient1\n",
    "                            or i.strIngredient1 = d.strIngredient2\n",
    "                            or i.strIngredient1 = d.strIngredient3\n",
    "                            WHERE d.strIngredient1 like '%{global_user_input}%' \n",
    "                            or d.strIngredient2 like '%{global_user_input}%'\n",
    "                            or d.strIngredient3 like '%{global_user_input}%'\n",
    "                            GROUP BY i.strCountryofOrigin\"\"\")\n",
    "        \n",
    "        select_query = text(f\"\"\"SELECT d.strDrink, d.strCategory, d.strGlass, i.strCountryofOrigin, \n",
    "                            d.strIngredient1, d.strIngredient2, d.strIngredient3\n",
    "                            FROM drink d\n",
    "                            JOIN ingredient i ON i.strIngredient1 = d.strIngredient1\n",
    "                            or i.strIngredient1 = d.strIngredient2\n",
    "                            or i.strIngredient1 = d.strIngredient3\n",
    "                            WHERE d.strIngredient1 like '%{global_user_input}%' \n",
    "                            or d.strIngredient2 like '%{global_user_input}%'\n",
    "                            or d.strIngredient3 like '%{global_user_input}%'\n",
    "                            GROUP BY d.strDrink, d.strCategory, d.strGlass, i.strCountryofOrigin, \n",
    "                            d.strIngredient1, d.strIngredient2, d.strIngredient3\"\"\")\n",
    "        \n",
    "        plot_query = text(f\"\"\"SELECT count(*) as count, i.strCountryofOrigin\n",
    "                            FROM drink d\n",
    "                            JOIN ingredient i ON i.strIngredient1 = d.strIngredient1\n",
    "                            or i.strIngredient1 = d.strIngredient2\n",
    "                            or i.strIngredient1 = d.strIngredient3\n",
    "                            WHERE d.strIngredient1 like '%{global_user_input}%' \n",
    "                            or d.strIngredient2 like '%{global_user_input}%'\n",
    "                            or d.strIngredient3 like '%{global_user_input}%'\n",
    "                            GROUP BY i.strCountryofOrigin\"\"\")\n",
    "else:\n",
    "        count_query = text(f\"\"\"SELECT count(*) FROM drink\n",
    "                            WHERE strglass like '%{global_user_input}%' \n",
    "                            GROUP BY strGlass\"\"\")\n",
    "        \n",
    "        select_query = text(f\"\"\"SELECT d.strDrink, d.strCategory, d.strGlass, i.strCountryofOrigin, \n",
    "                            d.strIngredient1, d.strIngredient2, d.strIngredient3\n",
    "                            FROM drink d\n",
    "                            JOIN ingredient i ON i.strIngredient1 = d.strIngredient1\n",
    "                            or i.strIngredient1 = d.strIngredient2\n",
    "                            or i.strIngredient1 = d.strIngredient3\n",
    "                            WHERE strglass like '%{global_user_input}%' \n",
    "                            GROUP BY d.strDrink, d.strCategory, d.strGlass, i.strCountryofOrigin, \n",
    "                            d.strIngredient1, d.strIngredient2, d.strIngredient3\"\"\")\n",
    "    \n",
    "        plot_query = text(f\"\"\"SELECT count(*) as count, strCategory\n",
    "                            FROM drink \n",
    "                            WHERE strglass like '%{global_user_input}%' \n",
    "                            GROUP BY strCategory\"\"\")\n",
    "\n",
    "#print(select_query)\n",
    "with engine.connect() as conn:\n",
    "    result = conn.execute(plot_query)\n",
    "    rows = result.fetchall()\n",
    "\n",
    "#Display the result\n",
    "df_query = pd.DataFrame(rows, columns=result.keys())\n",
    "df_query"
   ]
  },
  {
   "cell_type": "code",
   "execution_count": 28,
   "metadata": {},
   "outputs": [
    {
     "data": {
      "image/png": "[encoded data removed]",
      "text/plain": [
       "<Figure size 1200x800 with 1 Axes>"
      ]
     },
     "metadata": {},
     "output_type": "display_data"
    }
   ],
   "source": [
    "# plot by Country origin\n",
    "fig = plt.figure(figsize=(12, 8))\n",
    "# Pivot the DataFrame to prepare for grouped bar chart\n",
    "if global_option == \"Ingredient\":\n",
    "    plt.bar(df_query['strCountryofOrigin'], df_query['count'], color='skyblue')\n",
    "    plt.xlabel('Country of Origin')\n",
    "    plt.title(f\"Country of Origin Count Plot on {global_option} : {global_user_input}\")\n",
    "else:\n",
    "    plt.bar(df_query['strCategory'], df_query['count'], color='skyblue')\n",
    "    plt.xlabel('Category')\n",
    "    plt.title(f\"Category Drink Count Plot on {global_option} : {global_user_input}\")\n",
    "\n",
    "plt.show()"
   ]
  },
  {
   "cell_type": "markdown",
   "metadata": {},
   "source": [
    "## Step 5: Close Connection and Engine"
   ]
  },
  {
   "cell_type": "code",
   "execution_count": 29,
   "metadata": {},
   "outputs": [],
   "source": [
    "# Close the conn, engine\n",
    "conn.close()\n",
    "engine.dispose()"
   ]
  }
 ],
 "metadata": {
  "kernelspec": {
   "display_name": "tf15",
   "language": "python",
   "name": "tf15"
  },
  "language_info": {
   "codemirror_mode": {
    "name": "ipython",
    "version": 3
   },
   "file_extension": ".py",
   "mimetype": "text/x-python",
   "name": "python",
   "nbconvert_exporter": "python",
   "pygments_lexer": "ipython3",
   "version": "3.10.12"
  }
 },
 "nbformat": 4,
 "nbformat_minor": 2
}
