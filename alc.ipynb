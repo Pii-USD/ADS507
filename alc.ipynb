{
 "cells": [
  {
   "cell_type": "markdown",
   "metadata": {},
   "source": [
    "List the categories, glasses, ingredients or alcoholic filters\n",
    "www.thecocktaildb.com/api/json/v1/1/list.php?c=list\n",
    "www.thecocktaildb.com/api/json/v1/1/list.php?g=list\n",
    "www.thecocktaildb.com/api/json/v1/1/list.php?i=list\n",
    "www.thecocktaildb.com/api/json/v1/1/list.php?a=list\n",
    "\n",
    "Filter by Category [There are 11 categories]\n",
    "www.thecocktaildb.com/api/json/v1/1/filter.php?c=Ordinary_Drink\n",
    "www.thecocktaildb.com/api/json/v1/1/filter.php?c=Cocktail\n",
    "\n",
    "Filter by Glass [There are 32 glasses]\n",
    "www.thecocktaildb.com/api/json/v1/1/filter.php?g=Cocktail_glass\n",
    "www.thecocktaildb.com/api/json/v1/1/filter.php?g=Champagne_flute\n",
    "\n",
    "Filter by ingredient [There are 100 ingredients]\n",
    "www.thecocktaildb.com/api/json/v1/1/filter.php?i=Gin\n",
    "www.thecocktaildb.com/api/json/v1/1/filter.php?i=Vodka\n",
    "\n",
    "Filter by alcoholic [There are 3 alcohol types]\n",
    "www.thecocktaildb.com/api/json/v1/1/filter.php?a=Alcoholic\n",
    "www.thecocktaildb.com/api/json/v1/1/filter.php?a=Non_Alcoholic\n",
    "\n",
    "Search cocktail by name [It's similar to ingredients but more fields]\n",
    "www.thecocktaildb.com/api/json/v1/1/search.php?s=margarita\n",
    "\n",
    "Search cocktails by first letter  [It's similar to ingredients but more fields]\n",
    "www.thecocktaildb.com/api/json/v1/1/search.php?f=a"
   ]
  },
  {
   "cell_type": "code",
   "execution_count": 68,
   "metadata": {},
   "outputs": [],
   "source": [
    "import pandas as pd\n",
    "import mysql.connector\n",
    "import sqlalchemy\n",
    "from sqlalchemy import  text, MetaData\n",
    "import sqlite3\n",
    "import requests\n",
    "import json\n",
    "import seaborn as sns\n",
    "from matplotlib import pyplot as plt\n",
    "\n",
    "# parameter in Azure database/ test\n",
    "userName = 'ravi'\n",
    "userPass = 'Password507'\n",
    "host='sakila-2.mysql.database.azure.com'\n",
    "port=3306\n",
    "database='test'"
   ]
  },
  {
   "cell_type": "code",
   "execution_count": 17,
   "metadata": {},
   "outputs": [],
   "source": [
    "# list of category(c), glass(g), ingredient(i), alcohol(a)\n",
    "#response_API = requests.get(\"https://www.thecocktaildb.com/api/json/v1/1/list.php?a=list\") \n",
    "\n",
    "#Search cocktails by first letter  [It's similar to ingredients but more fields]\n",
    "response_a_API = requests.get(\"https://www.thecocktaildb.com/api/json/v1/1/search.php?f=a\")\n",
    "response_b_API = requests.get(\"https://www.thecocktaildb.com/api/json/v1/1/search.php?f=b\")\n",
    "response_c_API = requests.get(\"https://www.thecocktaildb.com/api/json/v1/1/search.php?f=c\")"
   ]
  },
  {
   "cell_type": "code",
   "execution_count": 18,
   "metadata": {},
   "outputs": [],
   "source": [
    "# Return parsed JSON data\n",
    "data_a = response_a_API.json()\n",
    "data_b = response_b_API.json()\n",
    "data_c = response_c_API.json()\n",
    "\n",
    "# Convert the combined data to a DataFrame\n",
    "df = pd.DataFrame(data_a['drinks']+ data_b['drinks']+ data_c['drinks'])\n",
    "\n",
    "# Display the DataFrame\n",
    "#df.head(10)"
   ]
  },
  {
   "cell_type": "code",
   "execution_count": 69,
   "metadata": {},
   "outputs": [
    {
     "data": {
      "text/plain": [
       "'\\ntry:\\n    connection = engine.connect()\\n    print(\"Connection successful!\")\\n    connection.close()\\nexcept Exception as e:\\n    print(f\"Error: {e}\")\\n\\ntest_tables = pd.read_sql_query(\"Show Tables\", engine)\\n\\n# Print the DataFrame\\nprint(test_tables)\\n'"
      ]
     },
     "execution_count": 69,
     "metadata": {},
     "output_type": "execute_result"
    }
   ],
   "source": [
    "# create engine to execute \n",
    "engine = sqlalchemy.create_engine(f\"mysql+mysqlconnector://{userName}:{userPass}@{host}:{port}/{database}\")\n",
    "\n",
    "#check if connection is successfull\n",
    "\"\"\"\n",
    "try:\n",
    "    connection = engine.connect()\n",
    "    print(\"Connection successful!\")\n",
    "    connection.close()\n",
    "except Exception as e:\n",
    "    print(f\"Error: {e}\")\n",
    "\n",
    "test_tables = pd.read_sql_query(\"Show Tables\", engine)\n",
    "\n",
    "# Print the DataFrame\n",
    "print(test_tables)\n",
    "\"\"\"\n"
   ]
  },
  {
   "cell_type": "code",
   "execution_count": 20,
   "metadata": {},
   "outputs": [
    {
     "data": {
      "text/plain": [
       "75"
      ]
     },
     "execution_count": 20,
     "metadata": {},
     "output_type": "execute_result"
    }
   ],
   "source": [
    "table_name = 'cocktail'\n",
    "\n",
    "# Load DataFrame into Azure MySQL table\n",
    "df.to_sql(table_name, con=engine, if_exists='replace', index=False)"
   ]
  },
  {
   "cell_type": "code",
   "execution_count": 75,
   "metadata": {},
   "outputs": [
    {
     "name": "stdout",
     "output_type": "stream",
     "text": [
      "User searched for Glass: shot\n",
      "option: Glass\n",
      "user_input: shot\n"
     ]
    }
   ],
   "source": [
    "import tkinter as tk\n",
    "from tkinter import simpledialog\n",
    "\n",
    "global_user_input = None\n",
    "global_option = None\n",
    "\n",
    "def show_popup(option):\n",
    "    global global_user_input, global_option\n",
    "    \n",
    "    # Ask the user for input with a pop-up window\n",
    "    user_input = simpledialog.askstring(\"Input\", f\"Enter {option}:\")\n",
    "    \n",
    "    # Check if the user clicked Cancel or entered a value\n",
    "    if user_input is not None:\n",
    "        result_label.config(text=f\"User searched for {option}: {user_input}\")\n",
    "        global_user_input = user_input\n",
    "        global_option = option\n",
    "        print(f\"User searched for {option}: {user_input}\")\n",
    "        root.destroy()\n",
    "\n",
    "    else:\n",
    "        result_label.config(text=f\"User clicked Cancel for {option}\")\n",
    "\n",
    "# Create the main window\n",
    "root = tk.Tk()\n",
    "root.title(\"Button Selection\")\n",
    "\n",
    "# Create buttons to trigger the pop-up for \"Glass\" and \"Ingredient\"\n",
    "glass_button = tk.Button(root, text=\"Glass\", command=lambda: show_popup(\"Glass\"))\n",
    "glass_button.pack(pady=10)\n",
    "\n",
    "ingredient_button = tk.Button(root, text=\"Ingredient\", command=lambda: show_popup(\"Ingredient\"))\n",
    "ingredient_button.pack(pady=10)\n",
    "\n",
    "# Create a label to display the result\n",
    "result_label = tk.Label(root, text=\"\")\n",
    "result_label.pack()\n",
    "\n",
    "# Start the Tkinter event loop\n",
    "root.mainloop()\n",
    "\n",
    "# Access global_user_input and global_option outside the Tkinter event loop\n",
    "if global_user_input is not None and global_option is not None:\n",
    "    print(\"option:\", global_option)\n",
    "    print(\"user_input:\", global_user_input)\n"
   ]
  },
  {
   "cell_type": "code",
   "execution_count": 76,
   "metadata": {},
   "outputs": [
    {
     "name": "stdout",
     "output_type": "stream",
     "text": [
      "Search count: 8\n"
     ]
    },
    {
     "data": {
      "text/html": [
       "<div>\n",
       "<style scoped>\n",
       "    .dataframe tbody tr th:only-of-type {\n",
       "        vertical-align: middle;\n",
       "    }\n",
       "\n",
       "    .dataframe tbody tr th {\n",
       "        vertical-align: top;\n",
       "    }\n",
       "\n",
       "    .dataframe thead th {\n",
       "        text-align: right;\n",
       "    }\n",
       "</style>\n",
       "<table border=\"1\" class=\"dataframe\">\n",
       "  <thead>\n",
       "    <tr style=\"text-align: right;\">\n",
       "      <th></th>\n",
       "      <th>strDrink</th>\n",
       "      <th>strCategory</th>\n",
       "      <th>strGlass</th>\n",
       "      <th>strAlcoholic</th>\n",
       "      <th>strIngredient1</th>\n",
       "      <th>strInstructions</th>\n",
       "    </tr>\n",
       "  </thead>\n",
       "  <tbody>\n",
       "    <tr>\n",
       "      <th>0</th>\n",
       "      <td>ABC</td>\n",
       "      <td>Shot</td>\n",
       "      <td>Shot glass</td>\n",
       "      <td>Alcoholic</td>\n",
       "      <td>Amaretto</td>\n",
       "      <td>Layered in a shot glass.</td>\n",
       "    </tr>\n",
       "    <tr>\n",
       "      <th>1</th>\n",
       "      <td>ACID</td>\n",
       "      <td>Shot</td>\n",
       "      <td>Shot glass</td>\n",
       "      <td>Alcoholic</td>\n",
       "      <td>151 proof rum</td>\n",
       "      <td>Poor in the 151 first followed by the 101 serv...</td>\n",
       "    </tr>\n",
       "    <tr>\n",
       "      <th>2</th>\n",
       "      <td>B-52</td>\n",
       "      <td>Shot</td>\n",
       "      <td>Shot glass</td>\n",
       "      <td>Alcoholic</td>\n",
       "      <td>Baileys irish cream</td>\n",
       "      <td>Layer ingredients into a shot glass. Serve wit...</td>\n",
       "    </tr>\n",
       "    <tr>\n",
       "      <th>3</th>\n",
       "      <td>Big Red</td>\n",
       "      <td>Shot</td>\n",
       "      <td>Shot glass</td>\n",
       "      <td>Alcoholic</td>\n",
       "      <td>Irish cream</td>\n",
       "      <td>Pour ingredients into 1 ounce shot glass</td>\n",
       "    </tr>\n",
       "    <tr>\n",
       "      <th>4</th>\n",
       "      <td>Bob Marley</td>\n",
       "      <td>Shot</td>\n",
       "      <td>Shot glass</td>\n",
       "      <td>Alcoholic</td>\n",
       "      <td>Midori melon liqueur</td>\n",
       "      <td>Layer in a 2 oz shot glass or pony glass</td>\n",
       "    </tr>\n",
       "    <tr>\n",
       "      <th>5</th>\n",
       "      <td>Bubble Gum</td>\n",
       "      <td>Shot</td>\n",
       "      <td>Shot glass</td>\n",
       "      <td>Alcoholic</td>\n",
       "      <td>Vodka</td>\n",
       "      <td>Layer in order into a shot glass.</td>\n",
       "    </tr>\n",
       "    <tr>\n",
       "      <th>6</th>\n",
       "      <td>Bumble Bee</td>\n",
       "      <td>Shot</td>\n",
       "      <td>Shot glass</td>\n",
       "      <td>Alcoholic</td>\n",
       "      <td>Baileys irish cream</td>\n",
       "      <td>This is a layered shot. First pour the Bailey'...</td>\n",
       "    </tr>\n",
       "    <tr>\n",
       "      <th>7</th>\n",
       "      <td>Chocolate Milk</td>\n",
       "      <td>Shot</td>\n",
       "      <td>Shot Glass</td>\n",
       "      <td>Alcoholic</td>\n",
       "      <td>Chocolate liqueur</td>\n",
       "      <td>Put the milk in the bottom, pour the Liquer on...</td>\n",
       "    </tr>\n",
       "  </tbody>\n",
       "</table>\n",
       "</div>"
      ],
      "text/plain": [
       "         strDrink strCategory    strGlass strAlcoholic        strIngredient1  \\\n",
       "0             ABC        Shot  Shot glass    Alcoholic              Amaretto   \n",
       "1            ACID        Shot  Shot glass    Alcoholic         151 proof rum   \n",
       "2            B-52        Shot  Shot glass    Alcoholic   Baileys irish cream   \n",
       "3         Big Red        Shot  Shot glass    Alcoholic           Irish cream   \n",
       "4      Bob Marley        Shot  Shot glass    Alcoholic  Midori melon liqueur   \n",
       "5      Bubble Gum        Shot  Shot glass    Alcoholic                 Vodka   \n",
       "6      Bumble Bee        Shot  Shot glass    Alcoholic   Baileys irish cream   \n",
       "7  Chocolate Milk        Shot  Shot Glass    Alcoholic     Chocolate liqueur   \n",
       "\n",
       "                                     strInstructions  \n",
       "0                           Layered in a shot glass.  \n",
       "1  Poor in the 151 first followed by the 101 serv...  \n",
       "2  Layer ingredients into a shot glass. Serve wit...  \n",
       "3           Pour ingredients into 1 ounce shot glass  \n",
       "4           Layer in a 2 oz shot glass or pony glass  \n",
       "5                  Layer in order into a shot glass.  \n",
       "6  This is a layered shot. First pour the Bailey'...  \n",
       "7  Put the milk in the bottom, pour the Liquer on...  "
      ]
     },
     "execution_count": 76,
     "metadata": {},
     "output_type": "execute_result"
    }
   ],
   "source": [
    "#Query Cocktail Table by Ingridients, Glass, Category, Alcohol\n",
    "if global_option == \"Ingredient\":\n",
    "    count_query = text(f\"SELECT count(*) FROM cocktail WHERE strIngredient1 like '%{global_user_input}'\")\n",
    "    select_query = text(f\"\"\"SELECT \n",
    "                        strDrink, strCategory, strGlass, strAlcoholic, strIngredient1, strInstructions\n",
    "                        FROM cocktail WHERE strIngredient1 like '%{global_user_input}'\"\"\")\n",
    "else:\n",
    "    global_user_input = global_user_input+\" glass\"\n",
    "    count_query = text(f\"SELECT count(*) FROM cocktail WHERE strglass = '{global_user_input}'\")\n",
    "    select_query = text(f\"\"\"SELECT\n",
    "                        strDrink, strCategory, strGlass, strAlcoholic, strIngredient1, strInstructions  \n",
    "                        FROM cocktail WHERE strglass = '{global_user_input}'\"\"\")\n",
    "\n",
    "# Execute the SELECT query\n",
    "with engine.connect() as conn:\n",
    "    count = conn.execute(count_query)\n",
    "    count_result = count.scalar()\n",
    "    \n",
    "    result = conn.execute(select_query)\n",
    "    rows = result.fetchall()\n",
    "\n",
    "#Display the result\n",
    "print(f\"Search count: {count_result}\")\n",
    "df_query = pd.DataFrame(rows, columns=result.keys())\n",
    "df_query"
   ]
  },
  {
   "cell_type": "code",
   "execution_count": 23,
   "metadata": {},
   "outputs": [
    {
     "data": {
      "text/plain": [
       "'# Close the conn, engine\\nconn.close()\\nengine.dispose()'"
      ]
     },
     "execution_count": 23,
     "metadata": {},
     "output_type": "execute_result"
    }
   ],
   "source": [
    "\"\"\"# Close the conn, engine\n",
    "conn.close()\n",
    "engine.dispose()\"\"\""
   ]
  },
  {
   "cell_type": "code",
   "execution_count": null,
   "metadata": {},
   "outputs": [],
   "source": [
    "#Plot"
   ]
  }
 ],
 "metadata": {
  "kernelspec": {
   "display_name": "tf15",
   "language": "python",
   "name": "tf15"
  },
  "language_info": {
   "codemirror_mode": {
    "name": "ipython",
    "version": 3
   },
   "file_extension": ".py",
   "mimetype": "text/x-python",
   "name": "python",
   "nbconvert_exporter": "python",
   "pygments_lexer": "ipython3",
   "version": "3.10.12"
  }
 },
 "nbformat": 4,
 "nbformat_minor": 2
}
